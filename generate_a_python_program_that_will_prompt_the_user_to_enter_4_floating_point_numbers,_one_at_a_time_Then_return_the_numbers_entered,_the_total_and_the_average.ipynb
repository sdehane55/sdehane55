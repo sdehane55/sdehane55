{
  "cells": [
    {
      "cell_type": "markdown",
      "metadata": {
        "id": "view-in-github",
        "colab_type": "text"
      },
      "source": [
        "<a href=\"https://colab.research.google.com/github/sdehane55/sdehane55/blob/main/generate_a_python_program_that_will_prompt_the_user_to_enter_4_floating_point_numbers%2C_one_at_a_time_Then_return_the_numbers_entered%2C_the_total_and_the_average.ipynb\" target=\"_parent\"><img src=\"https://colab.research.google.com/assets/colab-badge.svg\" alt=\"Open In Colab\"/></a>"
      ]
    },
    {
      "cell_type": "markdown",
      "source": [
        "Sure, here is a Python program that will prompt the user to enter 4 floating-point numbers, one at a time. Then return the numbers entered, the total, and the average:"
      ],
      "metadata": {
        "id": "eYXu4bJH3jp0"
      }
    },
    {
      "cell_type": "code",
      "source": [
        "def main():\n",
        "    # Get the first number\n",
        "    number1 = float(input(\"Enter the first number: \"))\n",
        "\n",
        "    # Get the second number\n",
        "    number2 = float(input(\"Enter the second number: \"))\n",
        "\n",
        "    # Get the third number\n",
        "    number3 = float(input(\"Enter the third number: \"))\n",
        "\n",
        "    # Get the fourth number\n",
        "    number4 = float(input(\"Enter the fourth number: \"))\n",
        "\n",
        "    # Calculate the total\n",
        "    total = number1 + number2 + number3 + number4\n",
        "\n",
        "    # Calculate the average\n",
        "    average = total / 4\n",
        "\n",
        "    # Display the numbers entered, the total, and the average\n",
        "    print(\"The numbers entered are:\", number1, number2, number3, number4)\n",
        "    print(\"The total is:\", total)\n",
        "    print(\"The average is:\", average)\n",
        "\n",
        "if __name__ == \"__main__\":\n",
        "    main()"
      ],
      "outputs": [
        {
          "output_type": "stream",
          "name": "stdout",
          "text": [
            "Enter the first number: 1.23\n",
            "Enter the second number: 444.77\n",
            "Enter the third number: 34.55\n",
            "Enter the fourth number: 175.75\n",
            "The numbers entered are: 1.23 444.77 34.55 175.75\n",
            "The total is: 656.3\n",
            "The average is: 164.075\n"
          ]
        }
      ],
      "execution_count": 1,
      "metadata": {
        "colab": {
          "base_uri": "https://localhost:8080/"
        },
        "id": "8THXVVt53jp5",
        "outputId": "90053259-0078-4031-f287-6e0702468628"
      }
    }
  ],
  "metadata": {
    "colab": {
      "provenance": [],
      "include_colab_link": true
    },
    "kernelspec": {
      "display_name": "Python 3",
      "name": "python3"
    }
  },
  "nbformat": 4,
  "nbformat_minor": 0
}